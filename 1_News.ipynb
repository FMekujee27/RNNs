{
  "cells": [
    {
      "cell_type": "markdown",
      "metadata": {
        "id": "view-in-github",
        "colab_type": "text"
      },
      "source": [
        "<a href=\"https://colab.research.google.com/github/FMekujee27/RNNs/blob/main/1_News.ipynb\" target=\"_parent\"><img src=\"https://colab.research.google.com/assets/colab-badge.svg\" alt=\"Open In Colab\"/></a>"
      ]
    },
    {
      "cell_type": "code",
      "execution_count": null,
      "metadata": {
        "colab": {
          "background_save": true,
          "base_uri": "https://localhost:8080/"
        },
        "id": "bu2aCKX3Fb6N",
        "outputId": "9c3ba5d7-1b28-4c09-acd4-7227e90865f8"
      },
      "outputs": [
        {
          "name": "stdout",
          "output_type": "stream",
          "text": [
            "Requirement already satisfied: xlsxwriter in /usr/local/lib/python3.10/dist-packages (3.2.0)\n"
          ]
        },
        {
          "data": {
            "text/plain": [
              "(20540, 2)"
            ]
          },
          "execution_count": 3,
          "metadata": {},
          "output_type": "execute_result"
        }
      ],
      "source": [
        "#Libraries\n",
        "import xlsxwriter\n",
        "import pandas as pd\n",
        "import requests\n",
        "from bs4 import BeautifulSoup\n",
        "#Required URL\n",
        "url = \"https://oilprice.com/Latest-Energy-News/World-News\"\n",
        "#List to store the values\n",
        "headlines = []\n",
        "Dates=[]\n",
        "\n",
        "#Gather the data of all the pages (Last page is 1027 on date 23-06-2024 3:00pm)\n",
        "for p in range(1, 1027+1):\n",
        "    c = f\"{url}/Page-{p}.html\"\n",
        "    response = requests.get(c)\n",
        "    soup = BeautifulSoup(response.text, \"html.parser\")\n",
        "    articles = soup.find_all(\"div\", class_=\"categoryArticle__content\")\n",
        "\n",
        "#Getting headlines and meta data\n",
        "    for a in articles:\n",
        "        h = a.find(\"h2\", class_=\"categoryArticle__title\")\n",
        "        meta = a.find(\"p\", class_=\"categoryArticle__meta\")\n",
        "        headline = h.text.strip()\n",
        "        meta_text = meta.text.strip()\n",
        "        headlines.append(headline)\n",
        "        Dates.append(meta_text)\n",
        "#Creating data frame\n",
        "        df=pd.DataFrame({\"Headline\": headlines, \"Date\": Dates})\n",
        "\n",
        "\n",
        "#Get an Excel file from this dataframe\n",
        "writer = pd.ExcelWriter(\"News.xlsx\", engine=\"xlsxwriter\")\n",
        "df.to_excel(writer, index=False)\n",
        "writer.close()\n",
        "#Print shape of the dataframe\n",
        "df.shape"
      ]
    }
  ],
  "metadata": {
    "colab": {
      "provenance": [],
      "include_colab_link": true
    },
    "kernelspec": {
      "display_name": "Python 3",
      "name": "python3"
    },
    "language_info": {
      "name": "python"
    }
  },
  "nbformat": 4,
  "nbformat_minor": 0
}